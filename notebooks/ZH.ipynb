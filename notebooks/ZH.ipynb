{
 "cells": [
  {
   "cell_type": "code",
   "execution_count": 23,
   "metadata": {
    "scrolled": true
   },
   "outputs": [
    {
     "data": {
      "application/javascript": [
       "\n",
       "            setTimeout(function() {\n",
       "                var nbb_cell_id = 23;\n",
       "                var nbb_unformatted_code = \"import pandas as pd\\nfrom math import log, floor\\nfrom nltk.corpus import stopwords\\nimport nltk\\nfrom ktrain import text\\nimport matplotlib.pyplot as plt\";\n",
       "                var nbb_formatted_code = \"import pandas as pd\\nfrom math import log, floor\\nfrom nltk.corpus import stopwords\\nimport nltk\\nfrom ktrain import text\\nimport matplotlib.pyplot as plt\";\n",
       "                var nbb_cells = Jupyter.notebook.get_cells();\n",
       "                for (var i = 0; i < nbb_cells.length; ++i) {\n",
       "                    if (nbb_cells[i].input_prompt_number == nbb_cell_id) {\n",
       "                        if (nbb_cells[i].get_text() == nbb_unformatted_code) {\n",
       "                             nbb_cells[i].set_text(nbb_formatted_code);\n",
       "                        }\n",
       "                        break;\n",
       "                    }\n",
       "                }\n",
       "            }, 500);\n",
       "            "
      ],
      "text/plain": [
       "<IPython.core.display.Javascript object>"
      ]
     },
     "metadata": {},
     "output_type": "display_data"
    }
   ],
   "source": [
    "import pandas as pd\n",
    "from math import log, floor\n",
    "from nltk.corpus import stopwords\n",
    "import nltk\n",
    "from ktrain import text\n",
    "import matplotlib.pyplot as plt"
   ]
  },
  {
   "cell_type": "markdown",
   "metadata": {},
   "source": [
    "### Labels (examples in english and spanish)"
   ]
  },
  {
   "cell_type": "code",
   "execution_count": 10,
   "metadata": {},
   "outputs": [
    {
     "data": {
      "application/javascript": [
       "\n",
       "            setTimeout(function() {\n",
       "                var nbb_cell_id = 10;\n",
       "                var nbb_unformatted_code = \"labels = [\\n    \\\"common words\\\",\\n    \\\"geography\\\",\\n    \\\"health\\\",\\n    \\\"culture\\\",\\n    \\\"art\\\",\\n    \\\"social science\\\",\\n    \\\"language\\\",\\n    \\\"general reference\\\",\\n    \\\"history\\\",\\n    \\\"event\\\",\\n    \\\"human activity\\\",\\n    \\\"mathematic\\\",\\n    \\\"software\\\",\\n    \\\"science\\\",\\n    \\\"philosophy\\\",\\n    \\\"religion\\\",\\n    \\\"society\\\",\\n    \\\"technology\\\",\\n    \\\"city\\\",\\n    \\\"animal\\\",\\n    \\\"name\\\",\\n    \\\"game\\\",\\n    \\\"engineer\\\",\\n    \\\"number\\\",\\n    \\\"location\\\",\\n    \\\"political\\\",\\n]\\nlabels = [\\n    \\\"palabras\\\",\\n    \\\"geografia\\\",\\n    \\\"salud\\\",\\n    \\\"cultura\\\",\\n    \\\"arte\\\",\\n    \\\"ciencias sociales\\\",\\n    \\\"lenguaje\\\",\\n    \\\"referencia general\\\",\\n    \\\"historia\\\",\\n    \\\"evento\\\",\\n    \\\"actividad\\\",\\n    \\\"matematica\\\",\\n    \\\"software\\\",\\n    \\\"ciencia\\\",\\n    \\\"filosofia\\\",\\n    \\\"religion\\\",\\n    \\\"sociedad\\\",\\n    \\\"tecnologia\\\",\\n    \\\"ciudad\\\",\\n    \\\"animal\\\",\\n    \\\"nombre\\\",\\n    \\\"juego\\\",\\n    \\\"ingeniero\\\",\\n    \\\"numero\\\",\\n    \\\"ubicacion\\\",\\n    \\\"politica\\\",\\n]\";\n",
       "                var nbb_formatted_code = \"labels = [\\n    \\\"common words\\\",\\n    \\\"geography\\\",\\n    \\\"health\\\",\\n    \\\"culture\\\",\\n    \\\"art\\\",\\n    \\\"social science\\\",\\n    \\\"language\\\",\\n    \\\"general reference\\\",\\n    \\\"history\\\",\\n    \\\"event\\\",\\n    \\\"human activity\\\",\\n    \\\"mathematic\\\",\\n    \\\"software\\\",\\n    \\\"science\\\",\\n    \\\"philosophy\\\",\\n    \\\"religion\\\",\\n    \\\"society\\\",\\n    \\\"technology\\\",\\n    \\\"city\\\",\\n    \\\"animal\\\",\\n    \\\"name\\\",\\n    \\\"game\\\",\\n    \\\"engineer\\\",\\n    \\\"number\\\",\\n    \\\"location\\\",\\n    \\\"political\\\",\\n]\\nlabels = [\\n    \\\"palabras\\\",\\n    \\\"geografia\\\",\\n    \\\"salud\\\",\\n    \\\"cultura\\\",\\n    \\\"arte\\\",\\n    \\\"ciencias sociales\\\",\\n    \\\"lenguaje\\\",\\n    \\\"referencia general\\\",\\n    \\\"historia\\\",\\n    \\\"evento\\\",\\n    \\\"actividad\\\",\\n    \\\"matematica\\\",\\n    \\\"software\\\",\\n    \\\"ciencia\\\",\\n    \\\"filosofia\\\",\\n    \\\"religion\\\",\\n    \\\"sociedad\\\",\\n    \\\"tecnologia\\\",\\n    \\\"ciudad\\\",\\n    \\\"animal\\\",\\n    \\\"nombre\\\",\\n    \\\"juego\\\",\\n    \\\"ingeniero\\\",\\n    \\\"numero\\\",\\n    \\\"ubicacion\\\",\\n    \\\"politica\\\",\\n]\";\n",
       "                var nbb_cells = Jupyter.notebook.get_cells();\n",
       "                for (var i = 0; i < nbb_cells.length; ++i) {\n",
       "                    if (nbb_cells[i].input_prompt_number == nbb_cell_id) {\n",
       "                        if (nbb_cells[i].get_text() == nbb_unformatted_code) {\n",
       "                             nbb_cells[i].set_text(nbb_formatted_code);\n",
       "                        }\n",
       "                        break;\n",
       "                    }\n",
       "                }\n",
       "            }, 500);\n",
       "            "
      ],
      "text/plain": [
       "<IPython.core.display.Javascript object>"
      ]
     },
     "metadata": {},
     "output_type": "display_data"
    }
   ],
   "source": [
    "labels = [\n",
    "    \"common words\",\n",
    "    \"geography\",\n",
    "    \"health\",\n",
    "    \"culture\",\n",
    "    \"art\",\n",
    "    \"social science\",\n",
    "    \"language\",\n",
    "    \"general reference\",\n",
    "    \"history\",\n",
    "    \"event\",\n",
    "    \"human activity\",\n",
    "    \"mathematic\",\n",
    "    \"software\",\n",
    "    \"science\",\n",
    "    \"philosophy\",\n",
    "    \"religion\",\n",
    "    \"society\",\n",
    "    \"technology\",\n",
    "    \"city\",\n",
    "    \"animal\",\n",
    "    \"name\",\n",
    "    \"game\",\n",
    "    \"engineer\",\n",
    "    \"number\",\n",
    "    \"location\",\n",
    "    \"political\",\n",
    "]\n",
    "labels = [\n",
    "    \"palabras\",\n",
    "    \"geografia\",\n",
    "    \"salud\",\n",
    "    \"cultura\",\n",
    "    \"arte\",\n",
    "    \"ciencias sociales\",\n",
    "    \"lenguaje\",\n",
    "    \"referencia general\",\n",
    "    \"historia\",\n",
    "    \"evento\",\n",
    "    \"actividad\",\n",
    "    \"matematica\",\n",
    "    \"software\",\n",
    "    \"ciencia\",\n",
    "    \"filosofia\",\n",
    "    \"religion\",\n",
    "    \"sociedad\",\n",
    "    \"tecnologia\",\n",
    "    \"ciudad\",\n",
    "    \"animal\",\n",
    "    \"nombre\",\n",
    "    \"juego\",\n",
    "    \"ingeniero\",\n",
    "    \"numero\",\n",
    "    \"ubicacion\",\n",
    "    \"politica\",\n",
    "]"
   ]
  },
  {
   "cell_type": "markdown",
   "metadata": {},
   "source": [
    "### Select and load the model"
   ]
  },
  {
   "cell_type": "code",
   "execution_count": null,
   "metadata": {},
   "outputs": [],
   "source": [
    "model_name = \"joeddav/xlm-roberta-large-xnli\"\n",
    "zsl = text.ZeroShotClassifier(model_name)"
   ]
  },
  {
   "cell_type": "markdown",
   "metadata": {},
   "source": [
    "### Load and clean the data (example in spanish)"
   ]
  },
  {
   "cell_type": "code",
   "execution_count": 14,
   "metadata": {},
   "outputs": [
    {
     "data": {
      "text/html": [
       "<div>\n",
       "<style scoped>\n",
       "    .dataframe tbody tr th:only-of-type {\n",
       "        vertical-align: middle;\n",
       "    }\n",
       "\n",
       "    .dataframe tbody tr th {\n",
       "        vertical-align: top;\n",
       "    }\n",
       "\n",
       "    .dataframe thead th {\n",
       "        text-align: right;\n",
       "    }\n",
       "</style>\n",
       "<table border=\"1\" class=\"dataframe\">\n",
       "  <thead>\n",
       "    <tr style=\"text-align: right;\">\n",
       "      <th></th>\n",
       "      <th>word</th>\n",
       "      <th>count</th>\n",
       "    </tr>\n",
       "  </thead>\n",
       "  <tbody>\n",
       "    <tr>\n",
       "      <th>14066</th>\n",
       "      <td>Los</td>\n",
       "      <td>28535</td>\n",
       "    </tr>\n",
       "    <tr>\n",
       "      <th>6704</th>\n",
       "      <td>Del</td>\n",
       "      <td>23912</td>\n",
       "    </tr>\n",
       "    <tr>\n",
       "      <th>18944</th>\n",
       "      <td>Que</td>\n",
       "      <td>22543</td>\n",
       "    </tr>\n",
       "    <tr>\n",
       "      <th>18006</th>\n",
       "      <td>Por</td>\n",
       "      <td>18949</td>\n",
       "    </tr>\n",
       "    <tr>\n",
       "      <th>13488</th>\n",
       "      <td>Las</td>\n",
       "      <td>18168</td>\n",
       "    </tr>\n",
       "  </tbody>\n",
       "</table>\n",
       "</div>"
      ],
      "text/plain": [
       "      word  count\n",
       "14066  Los  28535\n",
       "6704   Del  23912\n",
       "18944  Que  22543\n",
       "18006  Por  18949\n",
       "13488  Las  18168"
      ]
     },
     "execution_count": 14,
     "metadata": {},
     "output_type": "execute_result"
    },
    {
     "data": {
      "application/javascript": [
       "\n",
       "            setTimeout(function() {\n",
       "                var nbb_cell_id = 14;\n",
       "                var nbb_unformatted_code = \"df = pd.read_csv(\\\"es.csv\\\", header=None)\\ndf.columns = [\\\"word\\\", \\\"count\\\"]\\ndf = df[df[\\\"count\\\"] > 0]\\ndf[\\\"word\\\"] = df[\\\"word\\\"].str.strip(\\\"'\\\")\\ndf = df[(df[\\\"word\\\"].str.len() > 2)]\\ndf = df.sort_values([\\\"count\\\"], ascending=False)\\ndf[\\\"word\\\"] = df[\\\"word\\\"].str.capitalize()\\ndf.head()\";\n",
       "                var nbb_formatted_code = \"df = pd.read_csv(\\\"es.csv\\\", header=None)\\ndf.columns = [\\\"word\\\", \\\"count\\\"]\\ndf = df[df[\\\"count\\\"] > 0]\\ndf[\\\"word\\\"] = df[\\\"word\\\"].str.strip(\\\"'\\\")\\ndf = df[(df[\\\"word\\\"].str.len() > 2)]\\ndf = df.sort_values([\\\"count\\\"], ascending=False)\\ndf[\\\"word\\\"] = df[\\\"word\\\"].str.capitalize()\\ndf.head()\";\n",
       "                var nbb_cells = Jupyter.notebook.get_cells();\n",
       "                for (var i = 0; i < nbb_cells.length; ++i) {\n",
       "                    if (nbb_cells[i].input_prompt_number == nbb_cell_id) {\n",
       "                        if (nbb_cells[i].get_text() == nbb_unformatted_code) {\n",
       "                             nbb_cells[i].set_text(nbb_formatted_code);\n",
       "                        }\n",
       "                        break;\n",
       "                    }\n",
       "                }\n",
       "            }, 500);\n",
       "            "
      ],
      "text/plain": [
       "<IPython.core.display.Javascript object>"
      ]
     },
     "metadata": {},
     "output_type": "display_data"
    }
   ],
   "source": [
    "df = pd.read_csv(\"es.csv\", header=None)\n",
    "df.columns = [\"word\", \"count\"]\n",
    "df = df[df[\"count\"] > 0]\n",
    "df[\"word\"] = df[\"word\"].str.strip(\"'\")\n",
    "df = df[(df[\"word\"].str.len() > 2)]\n",
    "df = df.sort_values([\"count\"], ascending=False)\n",
    "df[\"word\"] = df[\"word\"].str.capitalize()\n",
    "df.head()"
   ]
  },
  {
   "cell_type": "markdown",
   "metadata": {},
   "source": [
    "### Translation of categories to english (example spanish)"
   ]
  },
  {
   "cell_type": "code",
   "execution_count": 15,
   "metadata": {},
   "outputs": [
    {
     "data": {
      "application/javascript": [
       "\n",
       "            setTimeout(function() {\n",
       "                var nbb_cell_id = 15;\n",
       "                var nbb_unformatted_code = \"names_cat = {\\n    \\\"evento\\\": \\\"event\\\",\\n    \\\"palabras comunes\\\": \\\"common words\\\",\\n    \\\"geografia\\\": \\\"geography\\\",\\n    \\\"salud\\\": \\\"health\\\",\\n    \\\"cultura\\\": \\\"culture\\\",\\n    \\\"arte\\\": \\\"art\\\",\\n    \\\"ciencias sociales\\\": \\\"social science\\\",\\n    \\\"lenguage\\\": \\\"language\\\",\\n    \\\"referencia general\\\": \\\"general reference\\\",\\n    \\\"historia\\\": \\\"history\\\",\\n    \\\"actividad humana\\\": \\\"human activity\\\",\\n    \\\"matematicas\\\": \\\"mathematic\\\",\\n    \\\"software\\\": \\\"software\\\",\\n    \\\"ciencia\\\": \\\"science\\\",\\n    \\\"filosofia\\\": \\\"philosophy\\\",\\n    \\\"religion\\\": \\\"religion\\\",\\n    \\\"sociedad\\\": \\\"society\\\",\\n    \\\"tecnologia\\\": \\\"technology\\\",\\n    \\\"ciudad\\\": \\\"city\\\",\\n    \\\"animal\\\": \\\"animal\\\",\\n    \\\"nombre\\\": \\\"name\\\",\\n    \\\"game\\\": \\\"game\\\",\\n    \\\"ingenieria\\\": \\\"engineer\\\",\\n    \\\"numero\\\": \\\"number\\\",\\n    \\\"locacion\\\": \\\"location\\\",\\n    \\\"politica\\\": \\\"political\\\",\\n}\";\n",
       "                var nbb_formatted_code = \"names_cat = {\\n    \\\"evento\\\": \\\"event\\\",\\n    \\\"palabras comunes\\\": \\\"common words\\\",\\n    \\\"geografia\\\": \\\"geography\\\",\\n    \\\"salud\\\": \\\"health\\\",\\n    \\\"cultura\\\": \\\"culture\\\",\\n    \\\"arte\\\": \\\"art\\\",\\n    \\\"ciencias sociales\\\": \\\"social science\\\",\\n    \\\"lenguage\\\": \\\"language\\\",\\n    \\\"referencia general\\\": \\\"general reference\\\",\\n    \\\"historia\\\": \\\"history\\\",\\n    \\\"actividad humana\\\": \\\"human activity\\\",\\n    \\\"matematicas\\\": \\\"mathematic\\\",\\n    \\\"software\\\": \\\"software\\\",\\n    \\\"ciencia\\\": \\\"science\\\",\\n    \\\"filosofia\\\": \\\"philosophy\\\",\\n    \\\"religion\\\": \\\"religion\\\",\\n    \\\"sociedad\\\": \\\"society\\\",\\n    \\\"tecnologia\\\": \\\"technology\\\",\\n    \\\"ciudad\\\": \\\"city\\\",\\n    \\\"animal\\\": \\\"animal\\\",\\n    \\\"nombre\\\": \\\"name\\\",\\n    \\\"game\\\": \\\"game\\\",\\n    \\\"ingenieria\\\": \\\"engineer\\\",\\n    \\\"numero\\\": \\\"number\\\",\\n    \\\"locacion\\\": \\\"location\\\",\\n    \\\"politica\\\": \\\"political\\\",\\n}\";\n",
       "                var nbb_cells = Jupyter.notebook.get_cells();\n",
       "                for (var i = 0; i < nbb_cells.length; ++i) {\n",
       "                    if (nbb_cells[i].input_prompt_number == nbb_cell_id) {\n",
       "                        if (nbb_cells[i].get_text() == nbb_unformatted_code) {\n",
       "                             nbb_cells[i].set_text(nbb_formatted_code);\n",
       "                        }\n",
       "                        break;\n",
       "                    }\n",
       "                }\n",
       "            }, 500);\n",
       "            "
      ],
      "text/plain": [
       "<IPython.core.display.Javascript object>"
      ]
     },
     "metadata": {},
     "output_type": "display_data"
    }
   ],
   "source": [
    "names_cat = {\n",
    "    \"evento\": \"event\",\n",
    "    \"palabras comunes\": \"common words\",\n",
    "    \"geografia\": \"geography\",\n",
    "    \"salud\": \"health\",\n",
    "    \"cultura\": \"culture\",\n",
    "    \"arte\": \"art\",\n",
    "    \"ciencias sociales\": \"social science\",\n",
    "    \"lenguage\": \"language\",\n",
    "    \"referencia general\": \"general reference\",\n",
    "    \"historia\": \"history\",\n",
    "    \"actividad humana\": \"human activity\",\n",
    "    \"matematicas\": \"mathematic\",\n",
    "    \"software\": \"software\",\n",
    "    \"ciencia\": \"science\",\n",
    "    \"filosofia\": \"philosophy\",\n",
    "    \"religion\": \"religion\",\n",
    "    \"sociedad\": \"society\",\n",
    "    \"tecnologia\": \"technology\",\n",
    "    \"ciudad\": \"city\",\n",
    "    \"animal\": \"animal\",\n",
    "    \"nombre\": \"name\",\n",
    "    \"game\": \"game\",\n",
    "    \"ingenieria\": \"engineer\",\n",
    "    \"numero\": \"number\",\n",
    "    \"locacion\": \"location\",\n",
    "    \"politica\": \"political\",\n",
    "}"
   ]
  },
  {
   "cell_type": "markdown",
   "metadata": {},
   "source": [
    "### Get top of the prediction"
   ]
  },
  {
   "cell_type": "code",
   "execution_count": 16,
   "metadata": {},
   "outputs": [
    {
     "data": {
      "application/javascript": [
       "\n",
       "            setTimeout(function() {\n",
       "                var nbb_cell_id = 16;\n",
       "                var nbb_unformatted_code = \"def get_top_class(row):\\n    classification = zsl.predict(\\n        row, labels=labels, include_labels=True, batch_size=32, multilabel=True\\n    )\\n    classification.sort(key=lambda tup: tup[1])\\n    classification1 = classification[-1][0] if classification[-1][1] > 0.3 else None\\n    return classification1\";\n",
       "                var nbb_formatted_code = \"def get_top_class(row):\\n    classification = zsl.predict(\\n        row, labels=labels, include_labels=True, batch_size=32, multilabel=True\\n    )\\n    classification.sort(key=lambda tup: tup[1])\\n    classification1 = classification[-1][0] if classification[-1][1] > 0.3 else None\\n    return classification1\";\n",
       "                var nbb_cells = Jupyter.notebook.get_cells();\n",
       "                for (var i = 0; i < nbb_cells.length; ++i) {\n",
       "                    if (nbb_cells[i].input_prompt_number == nbb_cell_id) {\n",
       "                        if (nbb_cells[i].get_text() == nbb_unformatted_code) {\n",
       "                             nbb_cells[i].set_text(nbb_formatted_code);\n",
       "                        }\n",
       "                        break;\n",
       "                    }\n",
       "                }\n",
       "            }, 500);\n",
       "            "
      ],
      "text/plain": [
       "<IPython.core.display.Javascript object>"
      ]
     },
     "metadata": {},
     "output_type": "display_data"
    }
   ],
   "source": [
    "def get_top_class(row):\n",
    "    classification = zsl.predict(\n",
    "        row, labels=labels, include_labels=True, batch_size=32, multilabel=True\n",
    "    )\n",
    "    classification.sort(key=lambda tup: tup[1])\n",
    "    classification1 = classification[-1][0] if classification[-1][1] > 0.3 else None\n",
    "    return classification1"
   ]
  },
  {
   "cell_type": "code",
   "execution_count": 17,
   "metadata": {},
   "outputs": [
    {
     "name": "stdout",
     "output_type": "stream",
     "text": [
      "CPU times: user 29min 29s, sys: 9min 53s, total: 39min 23s\n",
      "Wall time: 35min 19s\n"
     ]
    },
    {
     "data": {
      "text/html": [
       "<div>\n",
       "<style scoped>\n",
       "    .dataframe tbody tr th:only-of-type {\n",
       "        vertical-align: middle;\n",
       "    }\n",
       "\n",
       "    .dataframe tbody tr th {\n",
       "        vertical-align: top;\n",
       "    }\n",
       "\n",
       "    .dataframe thead th {\n",
       "        text-align: right;\n",
       "    }\n",
       "</style>\n",
       "<table border=\"1\" class=\"dataframe\">\n",
       "  <thead>\n",
       "    <tr style=\"text-align: right;\">\n",
       "      <th></th>\n",
       "      <th>word</th>\n",
       "      <th>count</th>\n",
       "      <th>classification1</th>\n",
       "    </tr>\n",
       "  </thead>\n",
       "  <tbody>\n",
       "    <tr>\n",
       "      <th>0</th>\n",
       "      <td>Los</td>\n",
       "      <td>28535</td>\n",
       "      <td>ciudad</td>\n",
       "    </tr>\n",
       "    <tr>\n",
       "      <th>1</th>\n",
       "      <td>Del</td>\n",
       "      <td>23912</td>\n",
       "      <td>politica</td>\n",
       "    </tr>\n",
       "    <tr>\n",
       "      <th>2</th>\n",
       "      <td>Que</td>\n",
       "      <td>22543</td>\n",
       "      <td>sociedad</td>\n",
       "    </tr>\n",
       "    <tr>\n",
       "      <th>3</th>\n",
       "      <td>Por</td>\n",
       "      <td>18949</td>\n",
       "      <td>animal</td>\n",
       "    </tr>\n",
       "    <tr>\n",
       "      <th>4</th>\n",
       "      <td>Las</td>\n",
       "      <td>18168</td>\n",
       "      <td>ciudad</td>\n",
       "    </tr>\n",
       "  </tbody>\n",
       "</table>\n",
       "</div>"
      ],
      "text/plain": [
       "  word  count classification1\n",
       "0  Los  28535          ciudad\n",
       "1  Del  23912        politica\n",
       "2  Que  22543        sociedad\n",
       "3  Por  18949          animal\n",
       "4  Las  18168          ciudad"
      ]
     },
     "execution_count": 17,
     "metadata": {},
     "output_type": "execute_result"
    },
    {
     "data": {
      "application/javascript": [
       "\n",
       "            setTimeout(function() {\n",
       "                var nbb_cell_id = 17;\n",
       "                var nbb_unformatted_code = \"%%time\\ndf['classification'] = df['word'].apply(get_top_class)\\ndf = pd.concat([pd.DataFrame(df[col].values.tolist()) for col in df.columns], axis=1, ignore_index=True)\\ndf.columns = ['word', 'count', 'classification1']\\ndf.head()\";\n",
       "                var nbb_formatted_code = \"%%time\\ndf['classification'] = df['word'].apply(get_top_class)\\ndf = pd.concat([pd.DataFrame(df[col].values.tolist()) for col in df.columns], axis=1, ignore_index=True)\\ndf.columns = ['word', 'count', 'classification1']\\ndf.head()\";\n",
       "                var nbb_cells = Jupyter.notebook.get_cells();\n",
       "                for (var i = 0; i < nbb_cells.length; ++i) {\n",
       "                    if (nbb_cells[i].input_prompt_number == nbb_cell_id) {\n",
       "                        if (nbb_cells[i].get_text() == nbb_unformatted_code) {\n",
       "                             nbb_cells[i].set_text(nbb_formatted_code);\n",
       "                        }\n",
       "                        break;\n",
       "                    }\n",
       "                }\n",
       "            }, 500);\n",
       "            "
      ],
      "text/plain": [
       "<IPython.core.display.Javascript object>"
      ]
     },
     "metadata": {},
     "output_type": "display_data"
    }
   ],
   "source": [
    "%%time\n",
    "df['classification'] = df['word'].apply(get_top_class)\n",
    "df = pd.concat([pd.DataFrame(df[col].values.tolist()) for col in df.columns], axis=1, ignore_index=True)\n",
    "df.columns = ['word', 'count', 'classification1']\n",
    "df.head()"
   ]
  },
  {
   "cell_type": "markdown",
   "metadata": {},
   "source": [
    "### Map class to english"
   ]
  },
  {
   "cell_type": "code",
   "execution_count": 19,
   "metadata": {
    "scrolled": true
   },
   "outputs": [
    {
     "data": {
      "text/html": [
       "<div>\n",
       "<style scoped>\n",
       "    .dataframe tbody tr th:only-of-type {\n",
       "        vertical-align: middle;\n",
       "    }\n",
       "\n",
       "    .dataframe tbody tr th {\n",
       "        vertical-align: top;\n",
       "    }\n",
       "\n",
       "    .dataframe thead th {\n",
       "        text-align: right;\n",
       "    }\n",
       "</style>\n",
       "<table border=\"1\" class=\"dataframe\">\n",
       "  <thead>\n",
       "    <tr style=\"text-align: right;\">\n",
       "      <th></th>\n",
       "      <th>word</th>\n",
       "      <th>count</th>\n",
       "      <th>classification1</th>\n",
       "    </tr>\n",
       "  </thead>\n",
       "  <tbody>\n",
       "    <tr>\n",
       "      <th>0</th>\n",
       "      <td>Los</td>\n",
       "      <td>28535</td>\n",
       "      <td>city</td>\n",
       "    </tr>\n",
       "    <tr>\n",
       "      <th>1</th>\n",
       "      <td>Del</td>\n",
       "      <td>23912</td>\n",
       "      <td>political</td>\n",
       "    </tr>\n",
       "    <tr>\n",
       "      <th>2</th>\n",
       "      <td>Que</td>\n",
       "      <td>22543</td>\n",
       "      <td>society</td>\n",
       "    </tr>\n",
       "    <tr>\n",
       "      <th>3</th>\n",
       "      <td>Por</td>\n",
       "      <td>18949</td>\n",
       "      <td>animal</td>\n",
       "    </tr>\n",
       "    <tr>\n",
       "      <th>4</th>\n",
       "      <td>Las</td>\n",
       "      <td>18168</td>\n",
       "      <td>city</td>\n",
       "    </tr>\n",
       "  </tbody>\n",
       "</table>\n",
       "</div>"
      ],
      "text/plain": [
       "  word  count classification1\n",
       "0  Los  28535            city\n",
       "1  Del  23912       political\n",
       "2  Que  22543         society\n",
       "3  Por  18949          animal\n",
       "4  Las  18168            city"
      ]
     },
     "execution_count": 19,
     "metadata": {},
     "output_type": "execute_result"
    },
    {
     "data": {
      "application/javascript": [
       "\n",
       "            setTimeout(function() {\n",
       "                var nbb_cell_id = 19;\n",
       "                var nbb_unformatted_code = \"df['classification1'] = df['classification1'].map(names_cat)\\ndf.head()\";\n",
       "                var nbb_formatted_code = \"df[\\\"classification1\\\"] = df[\\\"classification1\\\"].map(names_cat)\\ndf.head()\";\n",
       "                var nbb_cells = Jupyter.notebook.get_cells();\n",
       "                for (var i = 0; i < nbb_cells.length; ++i) {\n",
       "                    if (nbb_cells[i].input_prompt_number == nbb_cell_id) {\n",
       "                        if (nbb_cells[i].get_text() == nbb_unformatted_code) {\n",
       "                             nbb_cells[i].set_text(nbb_formatted_code);\n",
       "                        }\n",
       "                        break;\n",
       "                    }\n",
       "                }\n",
       "            }, 500);\n",
       "            "
      ],
      "text/plain": [
       "<IPython.core.display.Javascript object>"
      ]
     },
     "metadata": {},
     "output_type": "display_data"
    }
   ],
   "source": [
    "df[\"classification1\"] = df[\"classification1\"].map(names_cat)\n",
    "df.head()"
   ]
  },
  {
   "cell_type": "markdown",
   "metadata": {},
   "source": [
    "### Generate samples per category"
   ]
  },
  {
   "cell_type": "code",
   "execution_count": 20,
   "metadata": {
    "scrolled": true
   },
   "outputs": [
    {
     "data": {
      "text/html": [
       "<div>\n",
       "<style scoped>\n",
       "    .dataframe tbody tr th:only-of-type {\n",
       "        vertical-align: middle;\n",
       "    }\n",
       "\n",
       "    .dataframe tbody tr th {\n",
       "        vertical-align: top;\n",
       "    }\n",
       "\n",
       "    .dataframe thead th {\n",
       "        text-align: right;\n",
       "    }\n",
       "</style>\n",
       "<table border=\"1\" class=\"dataframe\">\n",
       "  <thead>\n",
       "    <tr style=\"text-align: right;\">\n",
       "      <th></th>\n",
       "      <th>Category</th>\n",
       "      <th>Number of Occurrences ES</th>\n",
       "      <th>Samples EN</th>\n",
       "    </tr>\n",
       "  </thead>\n",
       "  <tbody>\n",
       "    <tr>\n",
       "      <th>12</th>\n",
       "      <td>political</td>\n",
       "      <td>272</td>\n",
       "      <td>Del, Con, Pero</td>\n",
       "    </tr>\n",
       "    <tr>\n",
       "      <th>0</th>\n",
       "      <td>animal</td>\n",
       "      <td>241</td>\n",
       "      <td>Por, Para, Este</td>\n",
       "    </tr>\n",
       "    <tr>\n",
       "      <th>5</th>\n",
       "      <td>general reference</td>\n",
       "      <td>228</td>\n",
       "      <td>Como, Sin, Sobre</td>\n",
       "    </tr>\n",
       "    <tr>\n",
       "      <th>9</th>\n",
       "      <td>name</td>\n",
       "      <td>206</td>\n",
       "      <td>Dos, Son, Tres</td>\n",
       "    </tr>\n",
       "    <tr>\n",
       "      <th>16</th>\n",
       "      <td>society</td>\n",
       "      <td>188</td>\n",
       "      <td>Que, Más, Muy</td>\n",
       "    </tr>\n",
       "    <tr>\n",
       "      <th>4</th>\n",
       "      <td>event</td>\n",
       "      <td>155</td>\n",
       "      <td>Fue, Esto, Cuando</td>\n",
       "    </tr>\n",
       "    <tr>\n",
       "      <th>2</th>\n",
       "      <td>city</td>\n",
       "      <td>145</td>\n",
       "      <td>Los, Las, Ciudad</td>\n",
       "    </tr>\n",
       "    <tr>\n",
       "      <th>3</th>\n",
       "      <td>culture</td>\n",
       "      <td>125</td>\n",
       "      <td>Canción, Canciones, Manera</td>\n",
       "    </tr>\n",
       "    <tr>\n",
       "      <th>7</th>\n",
       "      <td>health</td>\n",
       "      <td>109</td>\n",
       "      <td>Forma, San, Vida</td>\n",
       "    </tr>\n",
       "    <tr>\n",
       "      <th>13</th>\n",
       "      <td>religion</td>\n",
       "      <td>109</td>\n",
       "      <td>Padre, Iglesia, Santa</td>\n",
       "    </tr>\n",
       "    <tr>\n",
       "      <th>10</th>\n",
       "      <td>number</td>\n",
       "      <td>106</td>\n",
       "      <td>Una, Uno, Cinco</td>\n",
       "    </tr>\n",
       "    <tr>\n",
       "      <th>8</th>\n",
       "      <td>history</td>\n",
       "      <td>91</td>\n",
       "      <td>Era, Años, Historia</td>\n",
       "    </tr>\n",
       "    <tr>\n",
       "      <th>6</th>\n",
       "      <td>geography</td>\n",
       "      <td>86</td>\n",
       "      <td>España, Norte, Europa</td>\n",
       "    </tr>\n",
       "    <tr>\n",
       "      <th>14</th>\n",
       "      <td>science</td>\n",
       "      <td>82</td>\n",
       "      <td>Universidad, Estudió, Estudios</td>\n",
       "    </tr>\n",
       "    <tr>\n",
       "      <th>1</th>\n",
       "      <td>art</td>\n",
       "      <td>80</td>\n",
       "      <td>Obra, Música, Película</td>\n",
       "    </tr>\n",
       "    <tr>\n",
       "      <th>18</th>\n",
       "      <td>technology</td>\n",
       "      <td>80</td>\n",
       "      <td>Firefox, Televisión, Equipos</td>\n",
       "    </tr>\n",
       "    <tr>\n",
       "      <th>11</th>\n",
       "      <td>philosophy</td>\n",
       "      <td>19</td>\n",
       "      <td>Filosofía, Plato, Fósiles</td>\n",
       "    </tr>\n",
       "    <tr>\n",
       "      <th>15</th>\n",
       "      <td>social science</td>\n",
       "      <td>18</td>\n",
       "      <td>Familia, Persona, Docente</td>\n",
       "    </tr>\n",
       "    <tr>\n",
       "      <th>17</th>\n",
       "      <td>software</td>\n",
       "      <td>18</td>\n",
       "      <td>Programa, Programas, Vista</td>\n",
       "    </tr>\n",
       "  </tbody>\n",
       "</table>\n",
       "</div>"
      ],
      "text/plain": [
       "             Category  Number of Occurrences ES  \\\n",
       "12          political                       272   \n",
       "0              animal                       241   \n",
       "5   general reference                       228   \n",
       "9                name                       206   \n",
       "16            society                       188   \n",
       "4               event                       155   \n",
       "2                city                       145   \n",
       "3             culture                       125   \n",
       "7              health                       109   \n",
       "13           religion                       109   \n",
       "10             number                       106   \n",
       "8             history                        91   \n",
       "6           geography                        86   \n",
       "14            science                        82   \n",
       "1                 art                        80   \n",
       "18         technology                        80   \n",
       "11         philosophy                        19   \n",
       "15     social science                        18   \n",
       "17           software                        18   \n",
       "\n",
       "                        Samples EN  \n",
       "12                  Del, Con, Pero  \n",
       "0                  Por, Para, Este  \n",
       "5                 Como, Sin, Sobre  \n",
       "9                   Dos, Son, Tres  \n",
       "16                   Que, Más, Muy  \n",
       "4                Fue, Esto, Cuando  \n",
       "2                 Los, Las, Ciudad  \n",
       "3       Canción, Canciones, Manera  \n",
       "7                 Forma, San, Vida  \n",
       "13           Padre, Iglesia, Santa  \n",
       "10                 Una, Uno, Cinco  \n",
       "8              Era, Años, Historia  \n",
       "6            España, Norte, Europa  \n",
       "14  Universidad, Estudió, Estudios  \n",
       "1           Obra, Música, Película  \n",
       "18    Firefox, Televisión, Equipos  \n",
       "11       Filosofía, Plato, Fósiles  \n",
       "15       Familia, Persona, Docente  \n",
       "17      Programa, Programas, Vista  "
      ]
     },
     "execution_count": 20,
     "metadata": {},
     "output_type": "execute_result"
    },
    {
     "data": {
      "application/javascript": [
       "\n",
       "            setTimeout(function() {\n",
       "                var nbb_cell_id = 20;\n",
       "                var nbb_unformatted_code = \"import random\\n\\ndf_class = (\\n    df.groupby(\\\"classification1\\\", as_index=False)\\n    .agg({\\\"count\\\": \\\"nunique\\\"})\\n    .sort_values([\\\"count\\\"], ascending=False)\\n)\\ndf_class.rename(\\n    columns={\\\"classification1\\\": \\\"Category\\\", \\\"count\\\": \\\"Number of Occurrences ES\\\"},\\n    inplace=True,\\n)\\nresults = {}\\nfor tag in list(df[\\\"classification1\\\"].unique()):\\n    try:\\n        results[tag] = (list(df[df['classification1'] == tag]['word'].values))[:3]\\n    except:\\n        if tag is not None:\\n            results[tag] = random.sample(\\n                list(df[df[\\\"classification1\\\"] == tag][\\\"word\\\"].unique()), 1\\n            )\\ndf_class[\\\"Samples EN\\\"] = df_class[\\\"Category\\\"].map(results)\\ndf_class = df_class[df_class['Number of Occurrences ES'] > 0]\\ndf_class[\\\"Samples EN\\\"] = [\\\", \\\".join(map(str, l)) for l in df_class[\\\"Samples EN\\\"]]\\n#df_class['Category'] = df_class['Category'].map(names_cat)\\ndf_class\";\n",
       "                var nbb_formatted_code = \"import random\\n\\ndf_class = (\\n    df.groupby(\\\"classification1\\\", as_index=False)\\n    .agg({\\\"count\\\": \\\"nunique\\\"})\\n    .sort_values([\\\"count\\\"], ascending=False)\\n)\\ndf_class.rename(\\n    columns={\\\"classification1\\\": \\\"Category\\\", \\\"count\\\": \\\"Number of Occurrences ES\\\"},\\n    inplace=True,\\n)\\nresults = {}\\nfor tag in list(df[\\\"classification1\\\"].unique()):\\n    try:\\n        results[tag] = (list(df[df[\\\"classification1\\\"] == tag][\\\"word\\\"].values))[:3]\\n    except:\\n        if tag is not None:\\n            results[tag] = random.sample(\\n                list(df[df[\\\"classification1\\\"] == tag][\\\"word\\\"].unique()), 1\\n            )\\ndf_class[\\\"Samples EN\\\"] = df_class[\\\"Category\\\"].map(results)\\ndf_class = df_class[df_class[\\\"Number of Occurrences ES\\\"] > 0]\\ndf_class[\\\"Samples EN\\\"] = [\\\", \\\".join(map(str, l)) for l in df_class[\\\"Samples EN\\\"]]\\n# df_class['Category'] = df_class['Category'].map(names_cat)\\ndf_class\";\n",
       "                var nbb_cells = Jupyter.notebook.get_cells();\n",
       "                for (var i = 0; i < nbb_cells.length; ++i) {\n",
       "                    if (nbb_cells[i].input_prompt_number == nbb_cell_id) {\n",
       "                        if (nbb_cells[i].get_text() == nbb_unformatted_code) {\n",
       "                             nbb_cells[i].set_text(nbb_formatted_code);\n",
       "                        }\n",
       "                        break;\n",
       "                    }\n",
       "                }\n",
       "            }, 500);\n",
       "            "
      ],
      "text/plain": [
       "<IPython.core.display.Javascript object>"
      ]
     },
     "metadata": {},
     "output_type": "display_data"
    }
   ],
   "source": [
    "import random\n",
    "\n",
    "df_class = (\n",
    "    df.groupby(\"classification1\", as_index=False)\n",
    "    .agg({\"count\": \"nunique\"})\n",
    "    .sort_values([\"count\"], ascending=False)\n",
    ")\n",
    "df_class.rename(\n",
    "    columns={\"classification1\": \"Category\", \"count\": \"Number of Occurrences ES\"},\n",
    "    inplace=True,\n",
    ")\n",
    "results = {}\n",
    "for tag in list(df[\"classification1\"].unique()):\n",
    "    try:\n",
    "        results[tag] = (list(df[df[\"classification1\"] == tag][\"word\"].values))[:3]\n",
    "    except:\n",
    "        if tag is not None:\n",
    "            results[tag] = random.sample(\n",
    "                list(df[df[\"classification1\"] == tag][\"word\"].unique()), 1\n",
    "            )\n",
    "df_class[\"Samples EN\"] = df_class[\"Category\"].map(results)\n",
    "df_class = df_class[df_class[\"Number of Occurrences ES\"] > 0]\n",
    "df_class[\"Samples EN\"] = [\", \".join(map(str, l)) for l in df_class[\"Samples EN\"]]\n",
    "# df_class['Category'] = df_class['Category'].map(names_cat)\n",
    "df_class"
   ]
  },
  {
   "cell_type": "markdown",
   "metadata": {},
   "source": [
    "### Ocurrences per category"
   ]
  },
  {
   "cell_type": "code",
   "execution_count": 21,
   "metadata": {
    "scrolled": true
   },
   "outputs": [
    {
     "data": {
      "text/html": [
       "<div>\n",
       "<style scoped>\n",
       "    .dataframe tbody tr th:only-of-type {\n",
       "        vertical-align: middle;\n",
       "    }\n",
       "\n",
       "    .dataframe tbody tr th {\n",
       "        vertical-align: top;\n",
       "    }\n",
       "\n",
       "    .dataframe thead th {\n",
       "        text-align: right;\n",
       "    }\n",
       "</style>\n",
       "<table border=\"1\" class=\"dataframe\">\n",
       "  <thead>\n",
       "    <tr style=\"text-align: right;\">\n",
       "      <th></th>\n",
       "      <th>Category</th>\n",
       "      <th>Occurrence-vi</th>\n",
       "    </tr>\n",
       "  </thead>\n",
       "  <tbody>\n",
       "    <tr>\n",
       "      <th>0</th>\n",
       "      <td>animal</td>\n",
       "      <td>165211</td>\n",
       "    </tr>\n",
       "    <tr>\n",
       "      <th>1</th>\n",
       "      <td>art</td>\n",
       "      <td>12348</td>\n",
       "    </tr>\n",
       "    <tr>\n",
       "      <th>2</th>\n",
       "      <td>city</td>\n",
       "      <td>87370</td>\n",
       "    </tr>\n",
       "    <tr>\n",
       "      <th>3</th>\n",
       "      <td>culture</td>\n",
       "      <td>22431</td>\n",
       "    </tr>\n",
       "    <tr>\n",
       "      <th>4</th>\n",
       "      <td>event</td>\n",
       "      <td>57888</td>\n",
       "    </tr>\n",
       "  </tbody>\n",
       "</table>\n",
       "</div>"
      ],
      "text/plain": [
       "  Category  Occurrence-vi\n",
       "0   animal         165211\n",
       "1      art          12348\n",
       "2     city          87370\n",
       "3  culture          22431\n",
       "4    event          57888"
      ]
     },
     "execution_count": 21,
     "metadata": {},
     "output_type": "execute_result"
    },
    {
     "data": {
      "application/javascript": [
       "\n",
       "            setTimeout(function() {\n",
       "                var nbb_cell_id = 21;\n",
       "                var nbb_unformatted_code = \"df_occur = df.groupby(['classification1'], as_index=False).sum()\\n#df_occur['classification1'] = df_occur['classification1'].map(names_cat)\\ndf_occur.rename(columns={'count':'Occurrence-vi', 'classification1':'Category'}, inplace=True)\\ndf_occur.head()\";\n",
       "                var nbb_formatted_code = \"df_occur = df.groupby([\\\"classification1\\\"], as_index=False).sum()\\n# df_occur['classification1'] = df_occur['classification1'].map(names_cat)\\ndf_occur.rename(\\n    columns={\\\"count\\\": \\\"Occurrence-vi\\\", \\\"classification1\\\": \\\"Category\\\"}, inplace=True\\n)\\ndf_occur.head()\";\n",
       "                var nbb_cells = Jupyter.notebook.get_cells();\n",
       "                for (var i = 0; i < nbb_cells.length; ++i) {\n",
       "                    if (nbb_cells[i].input_prompt_number == nbb_cell_id) {\n",
       "                        if (nbb_cells[i].get_text() == nbb_unformatted_code) {\n",
       "                             nbb_cells[i].set_text(nbb_formatted_code);\n",
       "                        }\n",
       "                        break;\n",
       "                    }\n",
       "                }\n",
       "            }, 500);\n",
       "            "
      ],
      "text/plain": [
       "<IPython.core.display.Javascript object>"
      ]
     },
     "metadata": {},
     "output_type": "display_data"
    }
   ],
   "source": [
    "df_occur = df.groupby([\"classification1\"], as_index=False).sum()\n",
    "# df_occur['classification1'] = df_occur['classification1'].map(names_cat)\n",
    "df_occur.rename(\n",
    "    columns={\"count\": \"Occurrence-vi\", \"classification1\": \"Category\"}, inplace=True\n",
    ")\n",
    "df_occur.head()"
   ]
  },
  {
   "cell_type": "markdown",
   "metadata": {},
   "source": [
    "### Create table for the paper"
   ]
  },
  {
   "cell_type": "code",
   "execution_count": 24,
   "metadata": {
    "scrolled": true
   },
   "outputs": [
    {
     "name": "stdout",
     "output_type": "stream",
     "text": [
      "\\begin{tabular}{llll}\n",
      "\\toprule\n",
      "          Category & OccurrAr & NoWAr &                    SamplesAr \\\\\n",
      "\\midrule\n",
      "             event &       2K &    30 &            ي قال, حصل, يحبها \\\\\n",
      "    human activity &       1K &    28 &       ستغادر, المشتري, لنغني \\\\\n",
      "          location &      333 &    14 &   باءمكانه, باءمكانك, القلعة \\\\\n",
      "              name &       1K &    24 &           انا, ساءبقى, اءدري \\\\\n",
      "            animal &       1K &    25 &           فيه, تفاحة, باللون \\\\\n",
      "            number &      493 &    17 &            عشرة, واحد, ثلاثة \\\\\n",
      " general reference &      185 &     8 &        طريقة, القانون, التعب \\\\\n",
      "      common words &      206 &     7 &            عديدة, تمطر, مخطئ \\\\\n",
      "              city &       49 &     4 &     اءيطاليا, بيكاسو, البلدة \\\\\n",
      "        technology &       92 &     5 &   التلفاز, السيارات, الاءخير \\\\\n",
      "           culture &       57 &     4 &         الصينية, بمهارة, فوق \\\\\n",
      "          language &       98 &     7 &  اللغة, بالاءنجليزية, ياباني \\\\\n",
      "              game &       20 &     0 &                              \\\\\n",
      "         political &       2K &    32 &            رؤية, المفضل, معي \\\\\n",
      "           history &      257 &     8 &           قبل, اءتذكر, عمرها \\\\\n",
      "\\bottomrule\n",
      "\\end{tabular}\n",
      "\n"
     ]
    },
    {
     "data": {
      "application/javascript": [
       "\n",
       "            setTimeout(function() {\n",
       "                var nbb_cell_id = 24;\n",
       "                var nbb_unformatted_code = \"df_en = pd.read_csv(\\\"ZS_en.csv\\\")\\ndf_es = pd.read_csv(\\\"ZS_es.csv\\\")\\ndf_ar = pd.read_csv(\\\"ZS_ar.csv\\\")\\ndf_ar.columns = [\\\"Category\\\", \\\"Occurrence-ar\\\", \\\"NoW-ar\\\", \\\"Samples-ar\\\"]\\ndf_fi = pd.merge(df_en, df_es, on=[\\\"Category\\\"], how=\\\"left\\\")\\ndf_fi = pd.merge(df_fi, df_ar, on=[\\\"Category\\\"], how=\\\"left\\\")\\ndf_fi[\\\"Occurrence-ar\\\"] = df_fi[\\\"Occurrence-ar\\\"].fillna(0)\\ndf_fi[\\\"NoW-ar\\\"] = df_fi[\\\"NoW-ar\\\"].fillna(0)\\ndf_fi[\\\"Samples-ar\\\"] = df_fi[\\\"Samples-ar\\\"].fillna(\\\"\\\")\\ndf_fi.sort_values([\\\"NoW-en\\\"], ascending=False, inplace=True)\\ndf_fi.rename(\\n    columns={\\n        \\\"Occurrence-en\\\": \\\"OccurrEn\\\",\\n        \\\"Occurrence-es\\\": \\\"OccurrEs\\\",\\n        \\\"Occurrence-ar\\\": \\\"OccurrAr\\\",\\n        \\\"POS Tag\\\": \\\"POSTag\\\",\\n        \\\"NoW-en\\\": \\\"NoWEn\\\",\\n        \\\"NoW-es\\\": \\\"NoWEs\\\",\\n        \\\"NoW-ar\\\": \\\"NoWAr\\\",\\n        \\\"Samples-es\\\": \\\"SamplesEs\\\",\\n        \\\"Samples-ar\\\": \\\"SamplesAr\\\",\\n        \\\"Samples-en\\\": \\\"SamplesEn\\\",\\n    },\\n    inplace=True,\\n)\\n\\n\\ndef human_format(number):\\n    if number == 0:\\n        return number\\n    else:\\n        units = [\\\"\\\", \\\"K\\\", \\\"M\\\", \\\"G\\\", \\\"T\\\", \\\"P\\\"]\\n        k = 1000.0\\n        magnitude = int(floor(log(number, k)))\\n        return \\\"%.0f%s\\\" % (number / k ** magnitude, units[magnitude])\\n\\n\\ndf_fi[\\\"OccurrEn\\\"] = df_fi[\\\"OccurrEn\\\"].apply(human_format)\\ndf_fi[\\\"NoWEn\\\"] = df_fi[\\\"NoWEn\\\"].apply(human_format)\\ndf_fi[\\\"OccurrEs\\\"] = df_fi[\\\"OccurrEs\\\"].apply(human_format)\\ndf_fi[\\\"NoWEs\\\"] = df_fi[\\\"NoWEs\\\"].apply(human_format)\\ndf_fi[\\\"OccurrAr\\\"] = df_fi[\\\"OccurrAr\\\"].apply(human_format)\\ndf_fi[\\\"NoWAr\\\"] = df_fi[\\\"NoWAr\\\"].apply(human_format)\\nprint(\\n    df_fi[[\\\"Category\\\", \\\"OccurrAr\\\", \\\"NoWAr\\\", \\\"SamplesAr\\\"]].head(15).to_latex(index=None)\\n)\";\n",
       "                var nbb_formatted_code = \"df_en = pd.read_csv(\\\"ZS_en.csv\\\")\\ndf_es = pd.read_csv(\\\"ZS_es.csv\\\")\\ndf_ar = pd.read_csv(\\\"ZS_ar.csv\\\")\\ndf_ar.columns = [\\\"Category\\\", \\\"Occurrence-ar\\\", \\\"NoW-ar\\\", \\\"Samples-ar\\\"]\\ndf_fi = pd.merge(df_en, df_es, on=[\\\"Category\\\"], how=\\\"left\\\")\\ndf_fi = pd.merge(df_fi, df_ar, on=[\\\"Category\\\"], how=\\\"left\\\")\\ndf_fi[\\\"Occurrence-ar\\\"] = df_fi[\\\"Occurrence-ar\\\"].fillna(0)\\ndf_fi[\\\"NoW-ar\\\"] = df_fi[\\\"NoW-ar\\\"].fillna(0)\\ndf_fi[\\\"Samples-ar\\\"] = df_fi[\\\"Samples-ar\\\"].fillna(\\\"\\\")\\ndf_fi.sort_values([\\\"NoW-en\\\"], ascending=False, inplace=True)\\ndf_fi.rename(\\n    columns={\\n        \\\"Occurrence-en\\\": \\\"OccurrEn\\\",\\n        \\\"Occurrence-es\\\": \\\"OccurrEs\\\",\\n        \\\"Occurrence-ar\\\": \\\"OccurrAr\\\",\\n        \\\"POS Tag\\\": \\\"POSTag\\\",\\n        \\\"NoW-en\\\": \\\"NoWEn\\\",\\n        \\\"NoW-es\\\": \\\"NoWEs\\\",\\n        \\\"NoW-ar\\\": \\\"NoWAr\\\",\\n        \\\"Samples-es\\\": \\\"SamplesEs\\\",\\n        \\\"Samples-ar\\\": \\\"SamplesAr\\\",\\n        \\\"Samples-en\\\": \\\"SamplesEn\\\",\\n    },\\n    inplace=True,\\n)\\n\\n\\ndef human_format(number):\\n    if number == 0:\\n        return number\\n    else:\\n        units = [\\\"\\\", \\\"K\\\", \\\"M\\\", \\\"G\\\", \\\"T\\\", \\\"P\\\"]\\n        k = 1000.0\\n        magnitude = int(floor(log(number, k)))\\n        return \\\"%.0f%s\\\" % (number / k ** magnitude, units[magnitude])\\n\\n\\ndf_fi[\\\"OccurrEn\\\"] = df_fi[\\\"OccurrEn\\\"].apply(human_format)\\ndf_fi[\\\"NoWEn\\\"] = df_fi[\\\"NoWEn\\\"].apply(human_format)\\ndf_fi[\\\"OccurrEs\\\"] = df_fi[\\\"OccurrEs\\\"].apply(human_format)\\ndf_fi[\\\"NoWEs\\\"] = df_fi[\\\"NoWEs\\\"].apply(human_format)\\ndf_fi[\\\"OccurrAr\\\"] = df_fi[\\\"OccurrAr\\\"].apply(human_format)\\ndf_fi[\\\"NoWAr\\\"] = df_fi[\\\"NoWAr\\\"].apply(human_format)\\nprint(\\n    df_fi[[\\\"Category\\\", \\\"OccurrAr\\\", \\\"NoWAr\\\", \\\"SamplesAr\\\"]].head(15).to_latex(index=None)\\n)\";\n",
       "                var nbb_cells = Jupyter.notebook.get_cells();\n",
       "                for (var i = 0; i < nbb_cells.length; ++i) {\n",
       "                    if (nbb_cells[i].input_prompt_number == nbb_cell_id) {\n",
       "                        if (nbb_cells[i].get_text() == nbb_unformatted_code) {\n",
       "                             nbb_cells[i].set_text(nbb_formatted_code);\n",
       "                        }\n",
       "                        break;\n",
       "                    }\n",
       "                }\n",
       "            }, 500);\n",
       "            "
      ],
      "text/plain": [
       "<IPython.core.display.Javascript object>"
      ]
     },
     "metadata": {},
     "output_type": "display_data"
    }
   ],
   "source": [
    "df_en = pd.read_csv(\"ZS_en.csv\")\n",
    "df_es = pd.read_csv(\"ZS_es.csv\")\n",
    "df_ar = pd.read_csv(\"ZS_ar.csv\")\n",
    "df_ar.columns = [\"Category\", \"Occurrence-ar\", \"NoW-ar\", \"Samples-ar\"]\n",
    "df_fi = pd.merge(df_en, df_es, on=[\"Category\"], how=\"left\")\n",
    "df_fi = pd.merge(df_fi, df_ar, on=[\"Category\"], how=\"left\")\n",
    "df_fi[\"Occurrence-ar\"] = df_fi[\"Occurrence-ar\"].fillna(0)\n",
    "df_fi[\"NoW-ar\"] = df_fi[\"NoW-ar\"].fillna(0)\n",
    "df_fi[\"Samples-ar\"] = df_fi[\"Samples-ar\"].fillna(\"\")\n",
    "df_fi.sort_values([\"NoW-en\"], ascending=False, inplace=True)\n",
    "df_fi.rename(\n",
    "    columns={\n",
    "        \"Occurrence-en\": \"OccurrEn\",\n",
    "        \"Occurrence-es\": \"OccurrEs\",\n",
    "        \"Occurrence-ar\": \"OccurrAr\",\n",
    "        \"POS Tag\": \"POSTag\",\n",
    "        \"NoW-en\": \"NoWEn\",\n",
    "        \"NoW-es\": \"NoWEs\",\n",
    "        \"NoW-ar\": \"NoWAr\",\n",
    "        \"Samples-es\": \"SamplesEs\",\n",
    "        \"Samples-ar\": \"SamplesAr\",\n",
    "        \"Samples-en\": \"SamplesEn\",\n",
    "    },\n",
    "    inplace=True,\n",
    ")\n",
    "\n",
    "\n",
    "def human_format(number):\n",
    "    if number == 0:\n",
    "        return number\n",
    "    else:\n",
    "        units = [\"\", \"K\", \"M\", \"G\", \"T\", \"P\"]\n",
    "        k = 1000.0\n",
    "        magnitude = int(floor(log(number, k)))\n",
    "        return \"%.0f%s\" % (number / k ** magnitude, units[magnitude])\n",
    "\n",
    "\n",
    "df_fi[\"OccurrEn\"] = df_fi[\"OccurrEn\"].apply(human_format)\n",
    "df_fi[\"NoWEn\"] = df_fi[\"NoWEn\"].apply(human_format)\n",
    "df_fi[\"OccurrEs\"] = df_fi[\"OccurrEs\"].apply(human_format)\n",
    "df_fi[\"NoWEs\"] = df_fi[\"NoWEs\"].apply(human_format)\n",
    "df_fi[\"OccurrAr\"] = df_fi[\"OccurrAr\"].apply(human_format)\n",
    "df_fi[\"NoWAr\"] = df_fi[\"NoWAr\"].apply(human_format)\n",
    "print(\n",
    "    df_fi[[\"Category\", \"OccurrAr\", \"NoWAr\", \"SamplesAr\"]].head(15).to_latex(index=None)\n",
    ")"
   ]
  },
  {
   "cell_type": "code",
   "execution_count": null,
   "metadata": {},
   "outputs": [],
   "source": []
  }
 ],
 "metadata": {
  "kernelspec": {
   "display_name": "Python 3",
   "language": "python",
   "name": "python3"
  },
  "language_info": {
   "codemirror_mode": {
    "name": "ipython",
    "version": 3
   },
   "file_extension": ".py",
   "mimetype": "text/x-python",
   "name": "python",
   "nbconvert_exporter": "python",
   "pygments_lexer": "ipython3",
   "version": "3.7.6"
  }
 },
 "nbformat": 4,
 "nbformat_minor": 4
}
